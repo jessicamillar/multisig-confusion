{
 "cells": [
  {
   "cell_type": "code",
   "execution_count": 1,
   "metadata": {},
   "outputs": [
    {
     "name": "stderr",
     "output_type": "stream",
     "text": [
      "INFO:util: ..P44MHE sending payment of 1.0 algo/s to ..DDX4BI \n",
      " txID: ..6SNZYA\n",
      "INFO:util:Got response for ..6SNZYA\n",
      "INFO:util: ..P44MHE sending payment of 1.0 algo/s to ..WJ4MII \n",
      " txID: ..64WBNQ\n",
      "INFO:util:Got response for ..64WBNQ\n"
     ]
    }
   ],
   "source": [
    "\"\"\" Goal: multisig acct with two signers, where either one \n",
    "can sign all transactions on behalf of the account.\n",
    "Start by resetting the sandbox: ./sandbox reset\n",
    "\n",
    "\"\"\"\n",
    "\n",
    "\"\"\" In this cell, we set up the two accounts who will be the two signers\n",
    "and fund them.\"\"\"\n",
    "from random import randint\n",
    "from settings import Settings\n",
    "import logging\n",
    "import dev_setup\n",
    "import base64\n",
    "import util\n",
    "from algosdk.v2client.algod import AlgodClient\n",
    "from algosdk import encoding\n",
    "from algosdk.future import transaction\n",
    "from algosdk.future.transaction import Multisig, MultisigTransaction, wait_for_confirmation\n",
    "settings = Settings()\n",
    "logging.basicConfig(level='INFO')\n",
    "\n",
    "oceanSk = 'sp4SDWmH8Rin0IhPJQq1UMsSR5C0j1IGqzLdcwCMySBVzT8lEUwjwwpS9z6l6dKSg52WWEjRdJDAL+eVt4kvBg=='\n",
    "oceanAccount = util.AlgoAccount(privateKey=oceanSk)\n",
    "txn_resp1 = dev_setup.devFundAccount(settings, acctToFund=oceanAccount, microAlgoAmount=1_000_000)\n",
    "\n",
    "waveSk = 'FCLmrvflibLD6Deu3NNiUQCC9LOWpXLsbMR/cP2oJzH8IT4Zu8vBAhRNsXoWF+2i6q2KyBZrPhmbDCKJD7rBBg=='\n",
    "waveAccount = util.AlgoAccount(privateKey=waveSk)\n",
    "txn_resp2 = dev_setup.devFundAccount(settings, acctToFund=waveAccount, microAlgoAmount=1_000_000)\n",
    "client: AlgodClient = util.getAlgodClient(settings)\n"
   ]
  },
  {
   "cell_type": "code",
   "execution_count": 2,
   "metadata": {},
   "outputs": [],
   "source": [
    "# We have two accounts - ocean and wave. We make a multi-sig account where either can sign\n",
    "\n",
    "msig = Multisig(version=1, threshold=1, addresses=[oceanAccount.addr, waveAccount.addr])\n",
    "assert msig.threshold == 1\n",
    "subsigOcean: transaction.MultisigSubsig = msig.subsigs[0]\n",
    "assert isinstance(subsigOcean, transaction.MultisigSubsig)\n",
    "subsigWave: transaction.MultisigSubsig = msig.subsigs[1]\n",
    "assert subsigOcean.public_key == transaction.MultisigSubsig(encoding.decode_address(oceanAccount.addr)).public_key\n",
    "assert subsigWave.public_key == transaction.MultisigSubsig(encoding.decode_address(waveAccount.addr)).public_key\n",
    "\n",
    "assert msig.address()[-6:] == 'KD2SVI'\n",
    "# Fund the multisig account from a genesis account\n",
    "gen = dev_setup.devGetGenesisAccounts(settings)[0]\n",
    "txn = transaction.PaymentTxn(\n",
    "    sender=gen.addr,\n",
    "    receiver=msig.address(),\n",
    "    amt=500_000,\n",
    "    sp=client.suggested_params()\n",
    ")\n",
    "signedTxn = txn.sign(gen.sk)\n",
    "txid = client.send_transaction(signedTxn)\n",
    "confirmed_txn = wait_for_confirmation(client, txid, 6)  \n",
    "assert client.account_info(msig.address())['amount'] == 500_000\n",
    "assert client.account_info(msig.address())['assets'] == []\n"
   ]
  },
  {
   "cell_type": "code",
   "execution_count": 3,
   "metadata": {},
   "outputs": [
    {
     "name": "stdout",
     "output_type": "stream",
     "text": [
      "Sent\n",
      "4\n"
     ]
    }
   ],
   "source": [
    "dev_setup.multiMakesNft(msig=msig, subAcct=waveAccount)\n",
    "assert client.account_info(msig.address())['assets']"
   ]
  },
  {
   "cell_type": "code",
   "execution_count": 4,
   "metadata": {},
   "outputs": [
    {
     "ename": "AlgodHTTPError",
     "evalue": "At least one signature didn't pass verification",
     "output_type": "error",
     "traceback": [
      "\u001b[0;31m---------------------------------------------------------------------------\u001b[0m",
      "\u001b[0;31mHTTPError\u001b[0m                                 Traceback (most recent call last)",
      "File \u001b[0;32m~/Coding/algorand/multisig-confusion/venv/lib/python3.10/site-packages/algosdk/v2client/algod.py:78\u001b[0m, in \u001b[0;36mAlgodClient.algod_request\u001b[0;34m(self, method, requrl, params, data, headers, response_format)\u001b[0m\n\u001b[1;32m     77\u001b[0m \u001b[39mtry\u001b[39;00m:\n\u001b[0;32m---> 78\u001b[0m     resp \u001b[39m=\u001b[39m urlopen(req)\n\u001b[1;32m     79\u001b[0m \u001b[39mexcept\u001b[39;00m urllib\u001b[39m.\u001b[39merror\u001b[39m.\u001b[39mHTTPError \u001b[39mas\u001b[39;00m e:\n",
      "File \u001b[0;32m~/.pyenv/versions/3.10.4/lib/python3.10/urllib/request.py:216\u001b[0m, in \u001b[0;36murlopen\u001b[0;34m(url, data, timeout, cafile, capath, cadefault, context)\u001b[0m\n\u001b[1;32m    215\u001b[0m     opener \u001b[39m=\u001b[39m _opener\n\u001b[0;32m--> 216\u001b[0m \u001b[39mreturn\u001b[39;00m opener\u001b[39m.\u001b[39;49mopen(url, data, timeout)\n",
      "File \u001b[0;32m~/.pyenv/versions/3.10.4/lib/python3.10/urllib/request.py:525\u001b[0m, in \u001b[0;36mOpenerDirector.open\u001b[0;34m(self, fullurl, data, timeout)\u001b[0m\n\u001b[1;32m    524\u001b[0m     meth \u001b[39m=\u001b[39m \u001b[39mgetattr\u001b[39m(processor, meth_name)\n\u001b[0;32m--> 525\u001b[0m     response \u001b[39m=\u001b[39m meth(req, response)\n\u001b[1;32m    527\u001b[0m \u001b[39mreturn\u001b[39;00m response\n",
      "File \u001b[0;32m~/.pyenv/versions/3.10.4/lib/python3.10/urllib/request.py:634\u001b[0m, in \u001b[0;36mHTTPErrorProcessor.http_response\u001b[0;34m(self, request, response)\u001b[0m\n\u001b[1;32m    633\u001b[0m \u001b[39mif\u001b[39;00m \u001b[39mnot\u001b[39;00m (\u001b[39m200\u001b[39m \u001b[39m<\u001b[39m\u001b[39m=\u001b[39m code \u001b[39m<\u001b[39m \u001b[39m300\u001b[39m):\n\u001b[0;32m--> 634\u001b[0m     response \u001b[39m=\u001b[39m \u001b[39mself\u001b[39;49m\u001b[39m.\u001b[39;49mparent\u001b[39m.\u001b[39;49merror(\n\u001b[1;32m    635\u001b[0m         \u001b[39m'\u001b[39;49m\u001b[39mhttp\u001b[39;49m\u001b[39m'\u001b[39;49m, request, response, code, msg, hdrs)\n\u001b[1;32m    637\u001b[0m \u001b[39mreturn\u001b[39;00m response\n",
      "File \u001b[0;32m~/.pyenv/versions/3.10.4/lib/python3.10/urllib/request.py:563\u001b[0m, in \u001b[0;36mOpenerDirector.error\u001b[0;34m(self, proto, *args)\u001b[0m\n\u001b[1;32m    562\u001b[0m args \u001b[39m=\u001b[39m (\u001b[39mdict\u001b[39m, \u001b[39m'\u001b[39m\u001b[39mdefault\u001b[39m\u001b[39m'\u001b[39m, \u001b[39m'\u001b[39m\u001b[39mhttp_error_default\u001b[39m\u001b[39m'\u001b[39m) \u001b[39m+\u001b[39m orig_args\n\u001b[0;32m--> 563\u001b[0m \u001b[39mreturn\u001b[39;00m \u001b[39mself\u001b[39;49m\u001b[39m.\u001b[39;49m_call_chain(\u001b[39m*\u001b[39;49margs)\n",
      "File \u001b[0;32m~/.pyenv/versions/3.10.4/lib/python3.10/urllib/request.py:496\u001b[0m, in \u001b[0;36mOpenerDirector._call_chain\u001b[0;34m(self, chain, kind, meth_name, *args)\u001b[0m\n\u001b[1;32m    495\u001b[0m func \u001b[39m=\u001b[39m \u001b[39mgetattr\u001b[39m(handler, meth_name)\n\u001b[0;32m--> 496\u001b[0m result \u001b[39m=\u001b[39m func(\u001b[39m*\u001b[39;49margs)\n\u001b[1;32m    497\u001b[0m \u001b[39mif\u001b[39;00m result \u001b[39mis\u001b[39;00m \u001b[39mnot\u001b[39;00m \u001b[39mNone\u001b[39;00m:\n",
      "File \u001b[0;32m~/.pyenv/versions/3.10.4/lib/python3.10/urllib/request.py:643\u001b[0m, in \u001b[0;36mHTTPDefaultErrorHandler.http_error_default\u001b[0;34m(self, req, fp, code, msg, hdrs)\u001b[0m\n\u001b[1;32m    642\u001b[0m \u001b[39mdef\u001b[39;00m \u001b[39mhttp_error_default\u001b[39m(\u001b[39mself\u001b[39m, req, fp, code, msg, hdrs):\n\u001b[0;32m--> 643\u001b[0m     \u001b[39mraise\u001b[39;00m HTTPError(req\u001b[39m.\u001b[39mfull_url, code, msg, hdrs, fp)\n",
      "\u001b[0;31mHTTPError\u001b[0m: HTTP Error 400: Bad Request",
      "\nDuring handling of the above exception, another exception occurred:\n",
      "\u001b[0;31mAlgodHTTPError\u001b[0m                            Traceback (most recent call last)",
      "Cell \u001b[0;32mIn [4], line 1\u001b[0m\n\u001b[0;32m----> 1\u001b[0m \u001b[43mdev_setup\u001b[49m\u001b[38;5;241;43m.\u001b[39;49m\u001b[43mmultiMakesNft\u001b[49m\u001b[43m(\u001b[49m\u001b[43mmsig\u001b[49m\u001b[38;5;241;43m=\u001b[39;49m\u001b[43mmsig\u001b[49m\u001b[43m,\u001b[49m\u001b[43m \u001b[49m\u001b[43msubAcct\u001b[49m\u001b[38;5;241;43m=\u001b[39;49m\u001b[43moceanAccount\u001b[49m\u001b[43m)\u001b[49m\n\u001b[1;32m      2\u001b[0m \u001b[38;5;28;01massert\u001b[39;00m client\u001b[38;5;241m.\u001b[39maccount_info(msig\u001b[38;5;241m.\u001b[39maddress())[\u001b[38;5;124m'\u001b[39m\u001b[38;5;124massets\u001b[39m\u001b[38;5;124m'\u001b[39m]\n",
      "File \u001b[0;32m~/Coding/algorand/multisig-confusion/dev_setup.py:160\u001b[0m, in \u001b[0;36mmultiMakesNft\u001b[0;34m(msig, subAcct)\u001b[0m\n\u001b[1;32m    157\u001b[0m mtx\u001b[39m.\u001b[39msign(subAcct\u001b[39m.\u001b[39msk)\n\u001b[1;32m    159\u001b[0m \u001b[39m# Sending signed transaction\u001b[39;00m\n\u001b[0;32m--> 160\u001b[0m txid \u001b[39m=\u001b[39m client\u001b[39m.\u001b[39;49msend_raw_transaction(\n\u001b[1;32m    161\u001b[0m     encoding\u001b[39m.\u001b[39;49mmsgpack_encode(mtx)) \n\u001b[1;32m    162\u001b[0m \u001b[39mprint\u001b[39m(\u001b[39m\"\u001b[39m\u001b[39mSent\u001b[39m\u001b[39m\"\u001b[39m)\n\u001b[1;32m    163\u001b[0m confirmed_txn \u001b[39m=\u001b[39m wait_for_confirmation(client, txid, \u001b[39m6\u001b[39m)\n",
      "File \u001b[0;32m~/Coding/algorand/multisig-confusion/venv/lib/python3.10/site-packages/algosdk/v2client/algod.py:260\u001b[0m, in \u001b[0;36mAlgodClient.send_raw_transaction\u001b[0;34m(self, txn, **kwargs)\u001b[0m\n\u001b[1;32m    254\u001b[0m headers \u001b[39m=\u001b[39m util\u001b[39m.\u001b[39mbuild_headers_from(\n\u001b[1;32m    255\u001b[0m     kwargs\u001b[39m.\u001b[39mget(\u001b[39m\"\u001b[39m\u001b[39mheaders\u001b[39m\u001b[39m\"\u001b[39m, \u001b[39mFalse\u001b[39;00m),\n\u001b[1;32m    256\u001b[0m     {\u001b[39m\"\u001b[39m\u001b[39mContent-Type\u001b[39m\u001b[39m\"\u001b[39m: \u001b[39m\"\u001b[39m\u001b[39mapplication/x-binary\u001b[39m\u001b[39m\"\u001b[39m},\n\u001b[1;32m    257\u001b[0m )\n\u001b[1;32m    258\u001b[0m kwargs[\u001b[39m\"\u001b[39m\u001b[39mheaders\u001b[39m\u001b[39m\"\u001b[39m] \u001b[39m=\u001b[39m headers\n\u001b[0;32m--> 260\u001b[0m \u001b[39mreturn\u001b[39;00m \u001b[39mself\u001b[39;49m\u001b[39m.\u001b[39;49malgod_request(\u001b[39m\"\u001b[39;49m\u001b[39mPOST\u001b[39;49m\u001b[39m\"\u001b[39;49m, req, data\u001b[39m=\u001b[39;49mtxn, \u001b[39m*\u001b[39;49m\u001b[39m*\u001b[39;49mkwargs)[\u001b[39m\"\u001b[39m\u001b[39mtxId\u001b[39m\u001b[39m\"\u001b[39m]\n",
      "File \u001b[0;32m~/Coding/algorand/multisig-confusion/venv/lib/python3.10/site-packages/algosdk/v2client/algod.py:85\u001b[0m, in \u001b[0;36mAlgodClient.algod_request\u001b[0;34m(self, method, requrl, params, data, headers, response_format)\u001b[0m\n\u001b[1;32m     83\u001b[0m         e \u001b[39m=\u001b[39m json\u001b[39m.\u001b[39mloads(e)[\u001b[39m\"\u001b[39m\u001b[39mmessage\u001b[39m\u001b[39m\"\u001b[39m]\n\u001b[1;32m     84\u001b[0m     \u001b[39mfinally\u001b[39;00m:\n\u001b[0;32m---> 85\u001b[0m         \u001b[39mraise\u001b[39;00m error\u001b[39m.\u001b[39mAlgodHTTPError(e, code)\n\u001b[1;32m     86\u001b[0m \u001b[39mif\u001b[39;00m response_format \u001b[39m==\u001b[39m \u001b[39m\"\u001b[39m\u001b[39mjson\u001b[39m\u001b[39m\"\u001b[39m:\n\u001b[1;32m     87\u001b[0m     \u001b[39mtry\u001b[39;00m:\n",
      "\u001b[0;31mAlgodHTTPError\u001b[0m: At least one signature didn't pass verification"
     ]
    }
   ],
   "source": [
    "dev_setup.multiMakesNft(msig=msig, subAcct=oceanAccount)\n",
    "assert client.account_info(msig.address())['assets']"
   ]
  },
  {
   "cell_type": "code",
   "execution_count": null,
   "metadata": {},
   "outputs": [],
   "source": []
  }
 ],
 "metadata": {
  "kernelspec": {
   "display_name": "Python 3.10.4 ('venv': venv)",
   "language": "python",
   "name": "python3"
  },
  "language_info": {
   "codemirror_mode": {
    "name": "ipython",
    "version": 3
   },
   "file_extension": ".py",
   "mimetype": "text/x-python",
   "name": "python",
   "nbconvert_exporter": "python",
   "pygments_lexer": "ipython3",
   "version": "3.10.4"
  },
  "orig_nbformat": 4,
  "vscode": {
   "interpreter": {
    "hash": "6901477e99cb8efb16ad7fe3ddc31cf5bc28dfeb1e93e8ed5aa9619f0d5a7628"
   }
  }
 },
 "nbformat": 4,
 "nbformat_minor": 2
}
