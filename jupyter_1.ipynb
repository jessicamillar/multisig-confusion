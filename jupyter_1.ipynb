{
 "cells": [
  {
   "cell_type": "code",
   "execution_count": 1,
   "metadata": {},
   "outputs": [
    {
     "name": "stderr",
     "output_type": "stream",
     "text": [
      "INFO:util: ..KSISJM sending payment of 1.0 algo/s to ..DDX4BI \n",
      " txID: ..5ON3KA\n",
      "INFO:util:Got response for ..5ON3KA\n",
      "INFO:util: ..KSISJM sending payment of 1.0 algo/s to ..WJ4MII \n",
      " txID: ..I2OIQA\n",
      "INFO:util:Got response for ..I2OIQA\n"
     ]
    }
   ],
   "source": [
    "\"\"\" Goal: multisig acct with two signers, where either one \n",
    "can sign all transactions on behalf of the account.\n",
    "Start by resetting the sandbox: ./sandbox reset\n",
    "\n",
    "\"\"\"\n",
    "\n",
    "\"\"\" In this cell, we set up the two accounts who will be the two signers\n",
    "and fund them.\"\"\"\n",
    "from random import randint\n",
    "from settings import Settings\n",
    "import logging\n",
    "import dev_setup\n",
    "import base64\n",
    "import util\n",
    "from algosdk.v2client.algod import AlgodClient\n",
    "from algosdk import encoding\n",
    "from algosdk.future import transaction\n",
    "from algosdk.future.transaction import Multisig, MultisigTransaction, wait_for_confirmation\n",
    "settings = Settings()\n",
    "logging.basicConfig(level='INFO')\n",
    "\n",
    "oceanSk = 'sp4SDWmH8Rin0IhPJQq1UMsSR5C0j1IGqzLdcwCMySBVzT8lEUwjwwpS9z6l6dKSg52WWEjRdJDAL+eVt4kvBg=='\n",
    "oceanAccount = util.AlgoAccount(privateKey=oceanSk)\n",
    "txn_resp1 = dev_setup.devFundAccount(settings, acctToFund=oceanAccount, microAlgoAmount=1_000_000)\n",
    "\n",
    "waveSk = 'FCLmrvflibLD6Deu3NNiUQCC9LOWpXLsbMR/cP2oJzH8IT4Zu8vBAhRNsXoWF+2i6q2KyBZrPhmbDCKJD7rBBg=='\n",
    "waveAccount = util.AlgoAccount(privateKey=waveSk)\n",
    "txn_resp2 = dev_setup.devFundAccount(settings, acctToFund=waveAccount, microAlgoAmount=1_000_000)\n",
    "client: AlgodClient = util.getAlgodClient(settings)\n"
   ]
  },
  {
   "cell_type": "code",
   "execution_count": 2,
   "metadata": {},
   "outputs": [],
   "source": [
    "# We have two accounts - ocean and wave. We make a multi-sig account where either can sign\n",
    "\n",
    "msig = Multisig(version=1, threshold=1, addresses=[oceanAccount.addr, waveAccount.addr])\n",
    "assert msig.threshold == 1\n",
    "subsigOcean: transaction.MultisigSubsig = msig.subsigs[0]\n",
    "assert isinstance(subsigOcean, transaction.MultisigSubsig)\n",
    "subsigWave: transaction.MultisigSubsig = msig.subsigs[1]\n",
    "assert subsigOcean.public_key == transaction.MultisigSubsig(encoding.decode_address(oceanAccount.addr)).public_key\n",
    "assert subsigWave.public_key == transaction.MultisigSubsig(encoding.decode_address(waveAccount.addr)).public_key\n",
    "\n",
    "assert msig.address()[-6:] == 'KD2SVI'\n",
    "# Fund the multisig account from a genesis account\n",
    "gen = dev_setup.devGetGenesisAccounts(settings)[0]\n",
    "txn = transaction.PaymentTxn(\n",
    "    sender=gen.addr,\n",
    "    receiver=msig.address(),\n",
    "    amt=500_000,\n",
    "    sp=client.suggested_params()\n",
    ")\n",
    "signedTxn = txn.sign(gen.sk)\n",
    "txid = client.send_transaction(signedTxn)\n",
    "confirmed_txn = wait_for_confirmation(client, txid, 6)  \n",
    "assert client.account_info(msig.address())['amount'] >= 500_000\n"
   ]
  },
  {
   "cell_type": "code",
   "execution_count": 3,
   "metadata": {},
   "outputs": [
    {
     "name": "stdout",
     "output_type": "stream",
     "text": [
      "Sent. Waiting for confirmation\n",
      "10\n",
      "success sending\n",
      "{'subsig': [{'pk': 'Vc0/JRFMI8MKUvc+penSkoOdllhI0XSQwC/nlbeJLwY=', 's': 'ozlZVKGXDx7+eNr4g4EfNeMxrKvzaP4QFvJNIP2jKgLotIt5G4T/udVUYhU6Coac6+uY1wMxcu4S5kwgEDhMBw=='}, {'pk': '/CE+GbvLwQIUTbF6FhftouqtisgWaz4ZmwwiiQ+6wQY='}], 'thr': 1, 'v': 1}\n"
     ]
    }
   ],
   "source": [
    "success1, txn1, mtx1 = dev_setup.multiMakesNft(msig=msig, subAcct=oceanAccount)"
   ]
  },
  {
   "cell_type": "code",
   "execution_count": 5,
   "metadata": {},
   "outputs": [
    {
     "name": "stdout",
     "output_type": "stream",
     "text": [
      "AlgoHTTPError: At least one signature didn't pass verification\n",
      "{'subsig': [{'pk': 'Vc0/JRFMI8MKUvc+penSkoOdllhI0XSQwC/nlbeJLwY=', 's': 'ozlZVKGXDx7+eNr4g4EfNeMxrKvzaP4QFvJNIP2jKgLotIt5G4T/udVUYhU6Coac6+uY1wMxcu4S5kwgEDhMBw=='}, {'pk': '/CE+GbvLwQIUTbF6FhftouqtisgWaz4ZmwwiiQ+6wQY=', 's': '7ny/9djVNJmZPOWNm4LrFLyFdJm1wPob+XlSIq1LCTuK/CDQiUN51Fx+Gt3UOM2ke69heW1WJ5sUEXqY/MirDA=='}], 'thr': 1, 'v': 1}\n"
     ]
    }
   ],
   "source": [
    "success2, txn2, mtx2 = dev_setup.multiMakesNft(msig=msig, subAcct=waveAccount)"
   ]
  },
  {
   "cell_type": "code",
   "execution_count": null,
   "metadata": {},
   "outputs": [],
   "source": [
    "assert success2 == False"
   ]
  },
  {
   "cell_type": "code",
   "execution_count": 16,
   "metadata": {},
   "outputs": [
    {
     "data": {
      "text/plain": [
       "('SeaWave384',\n",
       " b'\\xd6\\xfd\\xf7\\xb0\\xe2w\\xa8\\x90^\\xf8\\xe4\\xcd\\x9c\\x0e\\xbc\\xbf\\xa4\\xf1Pn',\n",
       " 'W384')"
      ]
     },
     "execution_count": 16,
     "metadata": {},
     "output_type": "execute_result"
    }
   ],
   "source": [
    "txn2.asset_name, txn2.note, txn2.unit_name"
   ]
  },
  {
   "cell_type": "code",
   "execution_count": 8,
   "metadata": {},
   "outputs": [],
   "source": [
    "assert txn1.note != txn2.note\n",
    "assert txn1.asset_name != txn2.asset_name\n",
    "assert txn1.unit_name != txn2.unit_name"
   ]
  },
  {
   "cell_type": "code",
   "execution_count": 9,
   "metadata": {},
   "outputs": [
    {
     "name": "stdout",
     "output_type": "stream",
     "text": [
      "Sent. Waiting for confirmation\n",
      "11\n",
      "success sending\n"
     ]
    }
   ],
   "source": [
    "success3, txn3, stx3 = dev_setup.singleMakesNft(acct=oceanAccount)"
   ]
  },
  {
   "cell_type": "code",
   "execution_count": 12,
   "metadata": {},
   "outputs": [
    {
     "name": "stdout",
     "output_type": "stream",
     "text": [
      "Sent. Waiting for confirmation\n",
      "12\n",
      "success sending\n"
     ]
    }
   ],
   "source": [
    "success4, txn4, stx4 = dev_setup.singleMakesNft(acct=waveAccount)"
   ]
  },
  {
   "cell_type": "code",
   "execution_count": 14,
   "metadata": {},
   "outputs": [],
   "source": [
    "assert stx3.signature != stx4.signature"
   ]
  },
  {
   "cell_type": "code",
   "execution_count": 17,
   "metadata": {},
   "outputs": [
    {
     "data": {
      "text/plain": [
       "('SeaWave87', b'GO\\x19\\xac6\\xb1LpSfr\\xb3\\x94\\xe3kP\\xd2\\xee c', 'W87')"
      ]
     },
     "execution_count": 17,
     "metadata": {},
     "output_type": "execute_result"
    }
   ],
   "source": [
    "txn4.asset_name, txn4.note, txn4.unit_name"
   ]
  },
  {
   "cell_type": "code",
   "execution_count": null,
   "metadata": {},
   "outputs": [],
   "source": []
  }
 ],
 "metadata": {
  "kernelspec": {
   "display_name": "Python 3.10.4 ('venv': venv)",
   "language": "python",
   "name": "python3"
  },
  "language_info": {
   "codemirror_mode": {
    "name": "ipython",
    "version": 3
   },
   "file_extension": ".py",
   "mimetype": "text/x-python",
   "name": "python",
   "nbconvert_exporter": "python",
   "pygments_lexer": "ipython3",
   "version": "3.10.4"
  },
  "orig_nbformat": 4,
  "vscode": {
   "interpreter": {
    "hash": "6901477e99cb8efb16ad7fe3ddc31cf5bc28dfeb1e93e8ed5aa9619f0d5a7628"
   }
  }
 },
 "nbformat": 4,
 "nbformat_minor": 2
}
